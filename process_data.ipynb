{
 "cells": [
  {
   "cell_type": "markdown",
   "id": "c9588061-1da5-456f-846a-3aac619a23b1",
   "metadata": {
    "tags": []
   },
   "source": [
    "## Modules"
   ]
  },
  {
   "cell_type": "code",
   "execution_count": 1,
   "id": "814aa0a8-5d19-4509-992e-b01cde74b3e8",
   "metadata": {
    "tags": []
   },
   "outputs": [],
   "source": [
    "import pandas as pd\n",
    "from tqdm import tqdm\n",
    "from sklearn.model_selection import train_test_split\n",
    "import numpy as np"
   ]
  },
  {
   "cell_type": "markdown",
   "id": "418bc997-bd0e-481e-aec6-2c5149ed5ae4",
   "metadata": {},
   "source": [
    "## Config"
   ]
  },
  {
   "cell_type": "code",
   "execution_count": 2,
   "id": "9330ac7f-6105-493d-a39f-f0ed637adb97",
   "metadata": {},
   "outputs": [],
   "source": [
    "INCLUDE_IMPOSSIBLE = True\n",
    "USE_MOD_ANSWER = False\n",
    "OUTPUT_NAME = \"w_noansw\""
   ]
  },
  {
   "cell_type": "markdown",
   "id": "1f626a89-dfbf-4122-b0bd-83ad1004bf07",
   "metadata": {
    "tags": []
   },
   "source": [
    "## Process data"
   ]
  },
  {
   "cell_type": "code",
   "execution_count": 3,
   "id": "a2c0812d-35be-420b-9e7a-8f080b6af928",
   "metadata": {
    "tags": []
   },
   "outputs": [],
   "source": [
    "pd.set_option('display.max_columns', None)\n",
    "hun_data = pd.read_csv(\"data/dev_long_impossible_yes_no_arithmetic.csv\", sep=';')"
   ]
  },
  {
   "cell_type": "code",
   "execution_count": 4,
   "id": "4749c08b-9766-44b6-af4f-25b5a6267d22",
   "metadata": {
    "tags": []
   },
   "outputs": [
    {
     "data": {
      "text/html": [
       "<div>\n",
       "<style scoped>\n",
       "    .dataframe tbody tr th:only-of-type {\n",
       "        vertical-align: middle;\n",
       "    }\n",
       "\n",
       "    .dataframe tbody tr th {\n",
       "        vertical-align: top;\n",
       "    }\n",
       "\n",
       "    .dataframe thead th {\n",
       "        text-align: right;\n",
       "    }\n",
       "</style>\n",
       "<table border=\"1\" class=\"dataframe\">\n",
       "  <thead>\n",
       "    <tr style=\"text-align: right;\">\n",
       "      <th></th>\n",
       "      <th>id</th>\n",
       "      <th>user</th>\n",
       "      <th>context</th>\n",
       "      <th>title</th>\n",
       "      <th>section</th>\n",
       "      <th>is_impossible</th>\n",
       "      <th>question</th>\n",
       "      <th>end</th>\n",
       "      <th>start</th>\n",
       "      <th>answer</th>\n",
       "      <th>type</th>\n",
       "      <th>modanswer</th>\n",
       "    </tr>\n",
       "  </thead>\n",
       "  <tbody>\n",
       "    <tr>\n",
       "      <th>0</th>\n",
       "      <td>1578</td>\n",
       "      <td>5</td>\n",
       "      <td>A török építészet formavilágának alapjai a nép...</td>\n",
       "      <td>Törökország</td>\n",
       "      <td>Építészet</td>\n",
       "      <td>True</td>\n",
       "      <td>Mikor épült az isztambuli Kék mecset?</td>\n",
       "      <td>0</td>\n",
       "      <td>0</td>\n",
       "      <td>NaN</td>\n",
       "      <td>NaN</td>\n",
       "      <td>NaN</td>\n",
       "    </tr>\n",
       "    <tr>\n",
       "      <th>1</th>\n",
       "      <td>3122</td>\n",
       "      <td>3</td>\n",
       "      <td>Puskás Ferenc apai ágon szegény sváb származás...</td>\n",
       "      <td>Puskás Ferenc (labdarúgó)</td>\n",
       "      <td>Gyermekkor, Kispesti AC</td>\n",
       "      <td>False</td>\n",
       "      <td>Miért nem a születése napján ünnepelte Puskás ...</td>\n",
       "      <td>256</td>\n",
       "      <td>0</td>\n",
       "      <td>Puskás Ferenc apai ágon szegény sváb származás...</td>\n",
       "      <td>[]</td>\n",
       "      <td>NaN</td>\n",
       "    </tr>\n",
       "    <tr>\n",
       "      <th>2</th>\n",
       "      <td>2768</td>\n",
       "      <td>4</td>\n",
       "      <td>Watson 2005-ben a Teen Vogue-ban, egy a kifeje...</td>\n",
       "      <td>Emma Watson</td>\n",
       "      <td>Modellkedés és divat</td>\n",
       "      <td>False</td>\n",
       "      <td>Melyik cég arca lett Emma Watson 2011 márciusá...</td>\n",
       "      <td>666</td>\n",
       "      <td>522</td>\n",
       "      <td>2011 januárjában Watson elnyerte az Elle Style...</td>\n",
       "      <td>[]</td>\n",
       "      <td>NaN</td>\n",
       "    </tr>\n",
       "    <tr>\n",
       "      <th>3</th>\n",
       "      <td>1526</td>\n",
       "      <td>5</td>\n",
       "      <td>A kritikusok folyamatosan elemzik és vizsgáljá...</td>\n",
       "      <td>Lady Gaga</td>\n",
       "      <td>Zenei stílusa és témái</td>\n",
       "      <td>False</td>\n",
       "      <td>Miért változtatja folyton Gaga a zenei stílusát?</td>\n",
       "      <td>210</td>\n",
       "      <td>0</td>\n",
       "      <td>A kritikusok folyamatosan elemzik és vizsgáljá...</td>\n",
       "      <td>[]</td>\n",
       "      <td>NaN</td>\n",
       "    </tr>\n",
       "    <tr>\n",
       "      <th>4</th>\n",
       "      <td>290</td>\n",
       "      <td>6</td>\n",
       "      <td>A hadihajók tüze után a szövetséges légierő ha...</td>\n",
       "      <td>Normandiai partraszállás</td>\n",
       "      <td>NaN</td>\n",
       "      <td>True</td>\n",
       "      <td>Melyik irányba tértek el a szövetséges bombázó...</td>\n",
       "      <td>0</td>\n",
       "      <td>0</td>\n",
       "      <td>NaN</td>\n",
       "      <td>NaN</td>\n",
       "      <td>NaN</td>\n",
       "    </tr>\n",
       "  </tbody>\n",
       "</table>\n",
       "</div>"
      ],
      "text/plain": [
       "     id  user                                            context  \\\n",
       "0  1578     5  A török építészet formavilágának alapjai a nép...   \n",
       "1  3122     3  Puskás Ferenc apai ágon szegény sváb származás...   \n",
       "2  2768     4  Watson 2005-ben a Teen Vogue-ban, egy a kifeje...   \n",
       "3  1526     5  A kritikusok folyamatosan elemzik és vizsgáljá...   \n",
       "4   290     6  A hadihajók tüze után a szövetséges légierő ha...   \n",
       "\n",
       "                       title                  section  is_impossible  \\\n",
       "0                Törökország                Építészet           True   \n",
       "1  Puskás Ferenc (labdarúgó)  Gyermekkor, Kispesti AC          False   \n",
       "2                Emma Watson     Modellkedés és divat          False   \n",
       "3                  Lady Gaga   Zenei stílusa és témái          False   \n",
       "4   Normandiai partraszállás                      NaN           True   \n",
       "\n",
       "                                            question  end  start  \\\n",
       "0              Mikor épült az isztambuli Kék mecset?    0      0   \n",
       "1  Miért nem a születése napján ünnepelte Puskás ...  256      0   \n",
       "2  Melyik cég arca lett Emma Watson 2011 márciusá...  666    522   \n",
       "3   Miért változtatja folyton Gaga a zenei stílusát?  210      0   \n",
       "4  Melyik irányba tértek el a szövetséges bombázó...    0      0   \n",
       "\n",
       "                                              answer type modanswer  \n",
       "0                                                NaN  NaN       NaN  \n",
       "1  Puskás Ferenc apai ágon szegény sváb származás...   []       NaN  \n",
       "2  2011 januárjában Watson elnyerte az Elle Style...   []       NaN  \n",
       "3  A kritikusok folyamatosan elemzik és vizsgáljá...   []       NaN  \n",
       "4                                                NaN  NaN       NaN  "
      ]
     },
     "execution_count": 4,
     "metadata": {},
     "output_type": "execute_result"
    }
   ],
   "source": [
    "hun_data = hun_data.drop(hun_data.columns[0], axis=1) # drop nameless column\n",
    "hun_data.head()"
   ]
  },
  {
   "cell_type": "code",
   "execution_count": 5,
   "id": "56b34533-d6b3-4f2c-aafa-16cb0724a2bc",
   "metadata": {
    "tags": []
   },
   "outputs": [
    {
     "data": {
      "text/plain": [
       "id                int64\n",
       "user              int64\n",
       "context          object\n",
       "title            object\n",
       "section          object\n",
       "is_impossible      bool\n",
       "question         object\n",
       "end               int64\n",
       "start             int64\n",
       "answer           object\n",
       "type             object\n",
       "modanswer        object\n",
       "dtype: object"
      ]
     },
     "execution_count": 5,
     "metadata": {},
     "output_type": "execute_result"
    }
   ],
   "source": [
    "hun_data.dtypes"
   ]
  },
  {
   "cell_type": "code",
   "execution_count": 6,
   "id": "f213051b-06be-4131-bd57-255f36dd45b0",
   "metadata": {
    "tags": []
   },
   "outputs": [
    {
     "name": "stdout",
     "output_type": "stream",
     "text": [
      "prompt_prefix='Válaszold meg az alábbi kérdést a forrás alapján! Ha a forrás alapján nem megválaszolható a kérdés, mondd hogy: Nincs elegendő adat a kérdés megválaszolásához.'\n"
     ]
    },
    {
     "name": "stderr",
     "output_type": "stream",
     "text": [
      "Processing data: 100%|████████████████████████████████████████████████████████████| 4553/4553 [00:01<00:00, 3194.73it/s]"
     ]
    },
    {
     "name": "stdout",
     "output_type": "stream",
     "text": [
      "impossible_question_count=1335\n"
     ]
    },
    {
     "name": "stderr",
     "output_type": "stream",
     "text": [
      "\n"
     ]
    }
   ],
   "source": [
    "impossible_answer = \"Nincs elegendő adat a kérdés megválaszolásához.\"\n",
    "\n",
    "if INCLUDE_IMPOSSIBLE:\n",
    "    prompt_prefix = (\"Válaszold meg az alábbi kérdést a forrás alapján! \"\n",
    "                     \"Ha a forrás alapján nem megválaszolható a kérdés, mondd hogy: \"\n",
    "                     f\"{impossible_answer}\")\n",
    "else:\n",
    "    prompt_prefix = \"Válaszold meg az alábbi kérdést a forrás alapján!\"\n",
    "\n",
    "print(f\"{prompt_prefix=}\")\n",
    "prompt_col = []\n",
    "impossible_question_count = 0\n",
    "\n",
    "with tqdm(total=len(hun_data.index), desc=\"Processing data\") as pbar:\n",
    "    for index, row in hun_data.loc[:].iterrows():\n",
    "\n",
    "        if row[\"answer\"] is np.nan:\n",
    "            hun_data.loc[index, \"is_impossible\"] = True\n",
    "        if hun_data.loc[index, \"is_impossible\"]:\n",
    "            hun_data.loc[index, \"answer\"] = impossible_answer\n",
    "            impossible_question_count = impossible_question_count + 1\n",
    "        if USE_MOD_ANSWER and (row[\"modanswer\"] is not np.nan):\n",
    "            hun_data.loc[index, \"answer\"] = row[\"modanswer\"]\n",
    "\n",
    "        hun_data.loc[index, \"answer\"] = hun_data.loc[index, \"answer\"].strip(r\" []'\")\n",
    "\n",
    "        text = (prompt_prefix\n",
    "                + \"\\n### Forrás:\\n\" + str(row['context'])\n",
    "                + \"\\n### Kérdés:\\n\" + str(row['question'])\n",
    "                + \"\\n### Válasz:\\n\" + str(hun_data.loc[index, \"answer\"]))\n",
    "\n",
    "        text = text.strip()\n",
    "        prompt_col.append(text)\n",
    "        pbar.update(1)\n",
    "        \n",
    "hun_data[\"text\"] = prompt_col\n",
    "print(f\"{impossible_question_count=}\")"
   ]
  },
  {
   "cell_type": "code",
   "execution_count": 7,
   "id": "7b07c751-1936-45bc-b725-fa3b3905a4ef",
   "metadata": {},
   "outputs": [
    {
     "name": "stdout",
     "output_type": "stream",
     "text": [
      "len(hun_data)=4553\n"
     ]
    }
   ],
   "source": [
    "print(f\"{len(hun_data)=}\")\n",
    "if not INCLUDE_IMPOSSIBLE:\n",
    "    hun_data = hun_data[hun_data.answer != impossible_answer]\n",
    "    print(f\"New {len(hun_data)=}\")"
   ]
  },
  {
   "cell_type": "markdown",
   "id": "4bbff159-3231-428f-a767-4ac44e2f2d60",
   "metadata": {},
   "source": [
    "## Create train and test sets"
   ]
  },
  {
   "cell_type": "code",
   "execution_count": 8,
   "id": "df7b6288-11fb-42c8-a6fc-5825517ab51a",
   "metadata": {
    "tags": []
   },
   "outputs": [
    {
     "name": "stdout",
     "output_type": "stream",
     "text": [
      "hun_data.shape=(4553, 13)\n"
     ]
    },
    {
     "data": {
      "text/html": [
       "<div>\n",
       "<style scoped>\n",
       "    .dataframe tbody tr th:only-of-type {\n",
       "        vertical-align: middle;\n",
       "    }\n",
       "\n",
       "    .dataframe tbody tr th {\n",
       "        vertical-align: top;\n",
       "    }\n",
       "\n",
       "    .dataframe thead th {\n",
       "        text-align: right;\n",
       "    }\n",
       "</style>\n",
       "<table border=\"1\" class=\"dataframe\">\n",
       "  <thead>\n",
       "    <tr style=\"text-align: right;\">\n",
       "      <th></th>\n",
       "      <th>id</th>\n",
       "      <th>user</th>\n",
       "      <th>context</th>\n",
       "      <th>title</th>\n",
       "      <th>section</th>\n",
       "      <th>is_impossible</th>\n",
       "      <th>question</th>\n",
       "      <th>end</th>\n",
       "      <th>start</th>\n",
       "      <th>answer</th>\n",
       "      <th>type</th>\n",
       "      <th>modanswer</th>\n",
       "      <th>text</th>\n",
       "    </tr>\n",
       "  </thead>\n",
       "  <tbody>\n",
       "    <tr>\n",
       "      <th>4548</th>\n",
       "      <td>1491</td>\n",
       "      <td>5</td>\n",
       "      <td>Mozart ekkor végleg szakított a salzburgi érse...</td>\n",
       "      <td>Wolfgang Amadeus Mozart</td>\n",
       "      <td>NaN</td>\n",
       "      <td>False</td>\n",
       "      <td>Hol mutatták be elsőként a Don Giovanni című o...</td>\n",
       "      <td>1200</td>\n",
       "      <td>1138</td>\n",
       "      <td>1787-ben a Don Giovannit óriási sikerrel mutat...</td>\n",
       "      <td>[]</td>\n",
       "      <td>NaN</td>\n",
       "      <td>Válaszold meg az alábbi kérdést a forrás alapj...</td>\n",
       "    </tr>\n",
       "    <tr>\n",
       "      <th>4549</th>\n",
       "      <td>3128</td>\n",
       "      <td>3</td>\n",
       "      <td>A világbajnokság után Puskás a Budapesti Honvé...</td>\n",
       "      <td>Puskás Ferenc (labdarúgó)</td>\n",
       "      <td>Emigráció</td>\n",
       "      <td>True</td>\n",
       "      <td>A Honvéd vagy az Athletic Bilbao nyerte a brüs...</td>\n",
       "      <td>0</td>\n",
       "      <td>0</td>\n",
       "      <td>Nincs elegendő adat a kérdés megválaszolásához.</td>\n",
       "      <td>NaN</td>\n",
       "      <td>NaN</td>\n",
       "      <td>Válaszold meg az alábbi kérdést a forrás alapj...</td>\n",
       "    </tr>\n",
       "    <tr>\n",
       "      <th>4550</th>\n",
       "      <td>694</td>\n",
       "      <td>4</td>\n",
       "      <td>Az Hagia Szophia erőteljes szimbóluma a Görögk...</td>\n",
       "      <td>Hagia Szophia</td>\n",
       "      <td>Hagia Szophia – vallás és politika</td>\n",
       "      <td>False</td>\n",
       "      <td>Mire bizonyíték az Hagia Szophia Chris Spirou ...</td>\n",
       "      <td>772</td>\n",
       "      <td>588</td>\n",
       "      <td>Spirou szerint: „Az Hagia Szophia a legnagyobb...</td>\n",
       "      <td>[]</td>\n",
       "      <td>NaN</td>\n",
       "      <td>Válaszold meg az alábbi kérdést a forrás alapj...</td>\n",
       "    </tr>\n",
       "    <tr>\n",
       "      <th>4551</th>\n",
       "      <td>271</td>\n",
       "      <td>6</td>\n",
       "      <td>A lap székhelyéül Münchent választották, ugyan...</td>\n",
       "      <td>Vlagyimir Iljics Lenin</td>\n",
       "      <td>Az első emigráció</td>\n",
       "      <td>True</td>\n",
       "      <td>Mi volt az eredeti orosz címe Lenin \"Mi a teen...</td>\n",
       "      <td>0</td>\n",
       "      <td>0</td>\n",
       "      <td>Nincs elegendő adat a kérdés megválaszolásához.</td>\n",
       "      <td>NaN</td>\n",
       "      <td>NaN</td>\n",
       "      <td>Válaszold meg az alábbi kérdést a forrás alapj...</td>\n",
       "    </tr>\n",
       "    <tr>\n",
       "      <th>4552</th>\n",
       "      <td>1901</td>\n",
       "      <td>5</td>\n",
       "      <td>A T m. aterrimus Magyarországon költ, míg déle...</td>\n",
       "      <td>Fekete rigó</td>\n",
       "      <td>Alfajai</td>\n",
       "      <td>True</td>\n",
       "      <td>Hány nap múlva kelnek ki a tojásból a fekete r...</td>\n",
       "      <td>0</td>\n",
       "      <td>0</td>\n",
       "      <td>Nincs elegendő adat a kérdés megválaszolásához.</td>\n",
       "      <td>NaN</td>\n",
       "      <td>NaN</td>\n",
       "      <td>Válaszold meg az alábbi kérdést a forrás alapj...</td>\n",
       "    </tr>\n",
       "  </tbody>\n",
       "</table>\n",
       "</div>"
      ],
      "text/plain": [
       "        id  user                                            context  \\\n",
       "4548  1491     5  Mozart ekkor végleg szakított a salzburgi érse...   \n",
       "4549  3128     3  A világbajnokság után Puskás a Budapesti Honvé...   \n",
       "4550   694     4  Az Hagia Szophia erőteljes szimbóluma a Görögk...   \n",
       "4551   271     6  A lap székhelyéül Münchent választották, ugyan...   \n",
       "4552  1901     5  A T m. aterrimus Magyarországon költ, míg déle...   \n",
       "\n",
       "                          title                             section  \\\n",
       "4548    Wolfgang Amadeus Mozart                                 NaN   \n",
       "4549  Puskás Ferenc (labdarúgó)                           Emigráció   \n",
       "4550              Hagia Szophia  Hagia Szophia – vallás és politika   \n",
       "4551     Vlagyimir Iljics Lenin                   Az első emigráció   \n",
       "4552                Fekete rigó                             Alfajai   \n",
       "\n",
       "      is_impossible                                           question   end  \\\n",
       "4548          False  Hol mutatták be elsőként a Don Giovanni című o...  1200   \n",
       "4549           True  A Honvéd vagy az Athletic Bilbao nyerte a brüs...     0   \n",
       "4550          False  Mire bizonyíték az Hagia Szophia Chris Spirou ...   772   \n",
       "4551           True  Mi volt az eredeti orosz címe Lenin \"Mi a teen...     0   \n",
       "4552           True  Hány nap múlva kelnek ki a tojásból a fekete r...     0   \n",
       "\n",
       "      start                                             answer type modanswer  \\\n",
       "4548   1138  1787-ben a Don Giovannit óriási sikerrel mutat...   []       NaN   \n",
       "4549      0    Nincs elegendő adat a kérdés megválaszolásához.  NaN       NaN   \n",
       "4550    588  Spirou szerint: „Az Hagia Szophia a legnagyobb...   []       NaN   \n",
       "4551      0    Nincs elegendő adat a kérdés megválaszolásához.  NaN       NaN   \n",
       "4552      0    Nincs elegendő adat a kérdés megválaszolásához.  NaN       NaN   \n",
       "\n",
       "                                                   text  \n",
       "4548  Válaszold meg az alábbi kérdést a forrás alapj...  \n",
       "4549  Válaszold meg az alábbi kérdést a forrás alapj...  \n",
       "4550  Válaszold meg az alábbi kérdést a forrás alapj...  \n",
       "4551  Válaszold meg az alábbi kérdést a forrás alapj...  \n",
       "4552  Válaszold meg az alábbi kérdést a forrás alapj...  "
      ]
     },
     "execution_count": 8,
     "metadata": {},
     "output_type": "execute_result"
    }
   ],
   "source": [
    "print(f\"{hun_data.shape=}\")\n",
    "hun_data.tail()"
   ]
  },
  {
   "cell_type": "code",
   "execution_count": 9,
   "id": "a00f4ad5-0506-4563-8637-5a13b69d1cc3",
   "metadata": {
    "tags": []
   },
   "outputs": [],
   "source": [
    "hun_data_train, hun_data_temp = train_test_split(hun_data, test_size=0.3, random_state=42)\n",
    "hun_data_eval, hun_data_test = train_test_split(hun_data_temp, test_size=0.5, random_state=42)"
   ]
  },
  {
   "cell_type": "code",
   "execution_count": 10,
   "id": "b6ec4a75-5ca7-4daf-b9f2-3ebc0b1d22f8",
   "metadata": {
    "tags": []
   },
   "outputs": [
    {
     "name": "stdout",
     "output_type": "stream",
     "text": [
      "hun_data_train shape: (3187, 13)\n",
      "hun_data_test shape: (683, 13)\n",
      "hun_data_eval shape: (683, 13)\n"
     ]
    }
   ],
   "source": [
    "print(\"hun_data_train shape:\", hun_data_train.shape)\n",
    "print(\"hun_data_test shape:\", hun_data_test.shape)\n",
    "print(\"hun_data_eval shape:\", hun_data_eval.shape)"
   ]
  },
  {
   "cell_type": "code",
   "execution_count": 11,
   "id": "dbde3032-5201-4a98-b088-354341204faa",
   "metadata": {
    "tags": []
   },
   "outputs": [],
   "source": [
    "hun_data_train_q_c_a_t = hun_data_train[['question', 'context', 'answer', 'text']]\n",
    "hun_data_test_q_c_a_t = hun_data_test[['question', 'context', 'answer', 'text']]\n",
    "hun_data_eval_q_c_a_t = hun_data_eval[['question', 'context', 'answer', 'text']]"
   ]
  },
  {
   "cell_type": "code",
   "execution_count": 12,
   "id": "3ace952c-bf44-429c-975d-9ac3d43969f0",
   "metadata": {
    "tags": []
   },
   "outputs": [
    {
     "data": {
      "text/html": [
       "<div>\n",
       "<style scoped>\n",
       "    .dataframe tbody tr th:only-of-type {\n",
       "        vertical-align: middle;\n",
       "    }\n",
       "\n",
       "    .dataframe tbody tr th {\n",
       "        vertical-align: top;\n",
       "    }\n",
       "\n",
       "    .dataframe thead th {\n",
       "        text-align: right;\n",
       "    }\n",
       "</style>\n",
       "<table border=\"1\" class=\"dataframe\">\n",
       "  <thead>\n",
       "    <tr style=\"text-align: right;\">\n",
       "      <th></th>\n",
       "      <th>question</th>\n",
       "      <th>context</th>\n",
       "      <th>answer</th>\n",
       "      <th>text</th>\n",
       "    </tr>\n",
       "  </thead>\n",
       "  <tbody>\n",
       "    <tr>\n",
       "      <th>1356</th>\n",
       "      <td>Milyen nagy fesztiválokat tartanak manapság In...</td>\n",
       "      <td>A fesztivált 1992 óta az indiai Turisztikai Mi...</td>\n",
       "      <td>Nincs elegendő adat a kérdés megválaszolásához.</td>\n",
       "      <td>Válaszold meg az alábbi kérdést a forrás alapj...</td>\n",
       "    </tr>\n",
       "    <tr>\n",
       "      <th>2823</th>\n",
       "      <td>Milyen rangban volt az ügyeletes a Reichswehr ...</td>\n",
       "      <td>Az idő előrehaladásával párhuzamosan egyre job...</td>\n",
       "      <td>Nincs elegendő adat a kérdés megválaszolásához.</td>\n",
       "      <td>Válaszold meg az alábbi kérdést a forrás alapj...</td>\n",
       "    </tr>\n",
       "    <tr>\n",
       "      <th>1456</th>\n",
       "      <td>Miért az akusztikus hallucinációk fordulnak el...</td>\n",
       "      <td>Érzékelés: általánosságban jellemző, hogy a re...</td>\n",
       "      <td>Nincs elegendő adat a kérdés megválaszolásához.</td>\n",
       "      <td>Válaszold meg az alábbi kérdést a forrás alapj...</td>\n",
       "    </tr>\n",
       "    <tr>\n",
       "      <th>396</th>\n",
       "      <td>Mi kellene ahhoz Visy Zsolt szerint, hogy a Se...</td>\n",
       "      <td>2008-ban Visy Zsolt régész, egyetemi tanár öss...</td>\n",
       "      <td>2008-ban Visy Zsolt régész, egyetemi tanár öss...</td>\n",
       "      <td>Válaszold meg az alábbi kérdést a forrás alapj...</td>\n",
       "    </tr>\n",
       "    <tr>\n",
       "      <th>1064</th>\n",
       "      <td>Milyen módszerrel épült a Vaskapu menti út Tib...</td>\n",
       "      <td>Az ókorban a Vaskapu oly mértékben elválasztot...</td>\n",
       "      <td>I. sz. 33–34 során egy 210 méter hosszú utat é...</td>\n",
       "      <td>Válaszold meg az alábbi kérdést a forrás alapj...</td>\n",
       "    </tr>\n",
       "  </tbody>\n",
       "</table>\n",
       "</div>"
      ],
      "text/plain": [
       "                                               question  \\\n",
       "1356  Milyen nagy fesztiválokat tartanak manapság In...   \n",
       "2823  Milyen rangban volt az ügyeletes a Reichswehr ...   \n",
       "1456  Miért az akusztikus hallucinációk fordulnak el...   \n",
       "396   Mi kellene ahhoz Visy Zsolt szerint, hogy a Se...   \n",
       "1064  Milyen módszerrel épült a Vaskapu menti út Tib...   \n",
       "\n",
       "                                                context  \\\n",
       "1356  A fesztivált 1992 óta az indiai Turisztikai Mi...   \n",
       "2823  Az idő előrehaladásával párhuzamosan egyre job...   \n",
       "1456  Érzékelés: általánosságban jellemző, hogy a re...   \n",
       "396   2008-ban Visy Zsolt régész, egyetemi tanár öss...   \n",
       "1064  Az ókorban a Vaskapu oly mértékben elválasztot...   \n",
       "\n",
       "                                                 answer  \\\n",
       "1356    Nincs elegendő adat a kérdés megválaszolásához.   \n",
       "2823    Nincs elegendő adat a kérdés megválaszolásához.   \n",
       "1456    Nincs elegendő adat a kérdés megválaszolásához.   \n",
       "396   2008-ban Visy Zsolt régész, egyetemi tanár öss...   \n",
       "1064  I. sz. 33–34 során egy 210 méter hosszú utat é...   \n",
       "\n",
       "                                                   text  \n",
       "1356  Válaszold meg az alábbi kérdést a forrás alapj...  \n",
       "2823  Válaszold meg az alábbi kérdést a forrás alapj...  \n",
       "1456  Válaszold meg az alábbi kérdést a forrás alapj...  \n",
       "396   Válaszold meg az alábbi kérdést a forrás alapj...  \n",
       "1064  Válaszold meg az alábbi kérdést a forrás alapj...  "
      ]
     },
     "execution_count": 12,
     "metadata": {},
     "output_type": "execute_result"
    }
   ],
   "source": [
    "hun_data_train_q_c_a_t.head()"
   ]
  },
  {
   "cell_type": "code",
   "execution_count": 13,
   "id": "b802da21-59d1-4de2-a238-708265fb0be1",
   "metadata": {
    "tags": []
   },
   "outputs": [
    {
     "data": {
      "text/html": [
       "<div>\n",
       "<style scoped>\n",
       "    .dataframe tbody tr th:only-of-type {\n",
       "        vertical-align: middle;\n",
       "    }\n",
       "\n",
       "    .dataframe tbody tr th {\n",
       "        vertical-align: top;\n",
       "    }\n",
       "\n",
       "    .dataframe thead th {\n",
       "        text-align: right;\n",
       "    }\n",
       "</style>\n",
       "<table border=\"1\" class=\"dataframe\">\n",
       "  <thead>\n",
       "    <tr style=\"text-align: right;\">\n",
       "      <th></th>\n",
       "      <th>question</th>\n",
       "      <th>context</th>\n",
       "      <th>answer</th>\n",
       "      <th>text</th>\n",
       "    </tr>\n",
       "  </thead>\n",
       "  <tbody>\n",
       "    <tr>\n",
       "      <th>4518</th>\n",
       "      <td>Miért Rommelt nevezte ki Hitler a francia védm...</td>\n",
       "      <td>1943 novemberében Hitler Erwin Rommelt nevezte...</td>\n",
       "      <td>Nincs elegendő adat a kérdés megválaszolásához.</td>\n",
       "      <td>Válaszold meg az alábbi kérdést a forrás alapj...</td>\n",
       "    </tr>\n",
       "    <tr>\n",
       "      <th>3455</th>\n",
       "      <td>Mikor veszítette el édesanyját Johann Sebastia...</td>\n",
       "      <td>A gyermeket hét-nyolc éves korában az 1692–169...</td>\n",
       "      <td>A korabeli feljegyzések szerint a gyermek Bach...</td>\n",
       "      <td>Válaszold meg az alábbi kérdést a forrás alapj...</td>\n",
       "    </tr>\n",
       "    <tr>\n",
       "      <th>1345</th>\n",
       "      <td>Hány lakóháazt építettek a Wekerle-telepre?</td>\n",
       "      <td>A telepes lakásépítés a századfordulón egyre n...</td>\n",
       "      <td>A kor legismertebb példája a budapesti Wekerle...</td>\n",
       "      <td>Válaszold meg az alábbi kérdést a forrás alapj...</td>\n",
       "    </tr>\n",
       "    <tr>\n",
       "      <th>540</th>\n",
       "      <td>Kitől kell függetlennek lennie az OEKO-TEX STe...</td>\n",
       "      <td>a szennyvíz és a szennyezett levegő tisztításá...</td>\n",
       "      <td>Nincs elegendő adat a kérdés megválaszolásához.</td>\n",
       "      <td>Válaszold meg az alábbi kérdést a forrás alapj...</td>\n",
       "    </tr>\n",
       "    <tr>\n",
       "      <th>564</th>\n",
       "      <td>Ilja Petrovics Csajkovszkijnak és Alekszandra...</td>\n",
       "      <td>1833. október 13-án Ilja Petrovics újból megnő...</td>\n",
       "      <td>Házasságukból hét gyermek született, de első l...</td>\n",
       "      <td>Válaszold meg az alábbi kérdést a forrás alapj...</td>\n",
       "    </tr>\n",
       "  </tbody>\n",
       "</table>\n",
       "</div>"
      ],
      "text/plain": [
       "                                               question  \\\n",
       "4518  Miért Rommelt nevezte ki Hitler a francia védm...   \n",
       "3455  Mikor veszítette el édesanyját Johann Sebastia...   \n",
       "1345        Hány lakóháazt építettek a Wekerle-telepre?   \n",
       "540   Kitől kell függetlennek lennie az OEKO-TEX STe...   \n",
       "564    Ilja Petrovics Csajkovszkijnak és Alekszandra...   \n",
       "\n",
       "                                                context  \\\n",
       "4518  1943 novemberében Hitler Erwin Rommelt nevezte...   \n",
       "3455  A gyermeket hét-nyolc éves korában az 1692–169...   \n",
       "1345  A telepes lakásépítés a századfordulón egyre n...   \n",
       "540   a szennyvíz és a szennyezett levegő tisztításá...   \n",
       "564   1833. október 13-án Ilja Petrovics újból megnő...   \n",
       "\n",
       "                                                 answer  \\\n",
       "4518    Nincs elegendő adat a kérdés megválaszolásához.   \n",
       "3455  A korabeli feljegyzések szerint a gyermek Bach...   \n",
       "1345  A kor legismertebb példája a budapesti Wekerle...   \n",
       "540     Nincs elegendő adat a kérdés megválaszolásához.   \n",
       "564   Házasságukból hét gyermek született, de első l...   \n",
       "\n",
       "                                                   text  \n",
       "4518  Válaszold meg az alábbi kérdést a forrás alapj...  \n",
       "3455  Válaszold meg az alábbi kérdést a forrás alapj...  \n",
       "1345  Válaszold meg az alábbi kérdést a forrás alapj...  \n",
       "540   Válaszold meg az alábbi kérdést a forrás alapj...  \n",
       "564   Válaszold meg az alábbi kérdést a forrás alapj...  "
      ]
     },
     "execution_count": 13,
     "metadata": {},
     "output_type": "execute_result"
    }
   ],
   "source": [
    "hun_data_test_q_c_a_t.head()"
   ]
  },
  {
   "cell_type": "code",
   "execution_count": 14,
   "id": "b732bc38-c2a7-4d9b-9e9e-f3fec8217396",
   "metadata": {
    "tags": []
   },
   "outputs": [
    {
     "data": {
      "text/html": [
       "<div>\n",
       "<style scoped>\n",
       "    .dataframe tbody tr th:only-of-type {\n",
       "        vertical-align: middle;\n",
       "    }\n",
       "\n",
       "    .dataframe tbody tr th {\n",
       "        vertical-align: top;\n",
       "    }\n",
       "\n",
       "    .dataframe thead th {\n",
       "        text-align: right;\n",
       "    }\n",
       "</style>\n",
       "<table border=\"1\" class=\"dataframe\">\n",
       "  <thead>\n",
       "    <tr style=\"text-align: right;\">\n",
       "      <th></th>\n",
       "      <th>question</th>\n",
       "      <th>context</th>\n",
       "      <th>answer</th>\n",
       "      <th>text</th>\n",
       "    </tr>\n",
       "  </thead>\n",
       "  <tbody>\n",
       "    <tr>\n",
       "      <th>3958</th>\n",
       "      <td>Ki írt először a zsidók prágai megtelepedéséről?</td>\n",
       "      <td>Alapításáról több legenda is kering, egyik sze...</td>\n",
       "      <td>Ekkor telepedtek meg itt a város későbbi életé...</td>\n",
       "      <td>Válaszold meg az alábbi kérdést a forrás alapj...</td>\n",
       "    </tr>\n",
       "    <tr>\n",
       "      <th>3262</th>\n",
       "      <td>Mikor alapították a Magyar Mérnök és Építész E...</td>\n",
       "      <td>A magyar szecesszió meghatározó építészeinek i...</td>\n",
       "      <td>Az 1867-ben alakult Magyar Mérnök és Építész E...</td>\n",
       "      <td>Válaszold meg az alábbi kérdést a forrás alapj...</td>\n",
       "    </tr>\n",
       "    <tr>\n",
       "      <th>1874</th>\n",
       "      <td>Miért nem lehet legálisan értékesíteni a Seuso...</td>\n",
       "      <td>A kincsek eredetének kiderítésére 1993-ban Mag...</td>\n",
       "      <td>Nincs elegendő adat a kérdés megválaszolásához.</td>\n",
       "      <td>Válaszold meg az alábbi kérdést a forrás alapj...</td>\n",
       "    </tr>\n",
       "    <tr>\n",
       "      <th>2285</th>\n",
       "      <td>Hogyan alakult az olasz-német viszony az 1930-...</td>\n",
       "      <td>Az első ilyen diktátor a 20. század történetéb...</td>\n",
       "      <td>A diktátor kezdetben ellenségesen viszonyult a...</td>\n",
       "      <td>Válaszold meg az alábbi kérdést a forrás alapj...</td>\n",
       "    </tr>\n",
       "    <tr>\n",
       "      <th>3978</th>\n",
       "      <td>Mekkora veszteséggel számoltak az angolok a no...</td>\n",
       "      <td>Az akcióban részt vevő flottaegységek parancsn...</td>\n",
       "      <td>Nincs elegendő adat a kérdés megválaszolásához.</td>\n",
       "      <td>Válaszold meg az alábbi kérdést a forrás alapj...</td>\n",
       "    </tr>\n",
       "  </tbody>\n",
       "</table>\n",
       "</div>"
      ],
      "text/plain": [
       "                                               question  \\\n",
       "3958   Ki írt először a zsidók prágai megtelepedéséről?   \n",
       "3262  Mikor alapították a Magyar Mérnök és Építész E...   \n",
       "1874  Miért nem lehet legálisan értékesíteni a Seuso...   \n",
       "2285  Hogyan alakult az olasz-német viszony az 1930-...   \n",
       "3978  Mekkora veszteséggel számoltak az angolok a no...   \n",
       "\n",
       "                                                context  \\\n",
       "3958  Alapításáról több legenda is kering, egyik sze...   \n",
       "3262  A magyar szecesszió meghatározó építészeinek i...   \n",
       "1874  A kincsek eredetének kiderítésére 1993-ban Mag...   \n",
       "2285  Az első ilyen diktátor a 20. század történetéb...   \n",
       "3978  Az akcióban részt vevő flottaegységek parancsn...   \n",
       "\n",
       "                                                 answer  \\\n",
       "3958  Ekkor telepedtek meg itt a város későbbi életé...   \n",
       "3262  Az 1867-ben alakult Magyar Mérnök és Építész E...   \n",
       "1874    Nincs elegendő adat a kérdés megválaszolásához.   \n",
       "2285  A diktátor kezdetben ellenségesen viszonyult a...   \n",
       "3978    Nincs elegendő adat a kérdés megválaszolásához.   \n",
       "\n",
       "                                                   text  \n",
       "3958  Válaszold meg az alábbi kérdést a forrás alapj...  \n",
       "3262  Válaszold meg az alábbi kérdést a forrás alapj...  \n",
       "1874  Válaszold meg az alábbi kérdést a forrás alapj...  \n",
       "2285  Válaszold meg az alábbi kérdést a forrás alapj...  \n",
       "3978  Válaszold meg az alábbi kérdést a forrás alapj...  "
      ]
     },
     "execution_count": 14,
     "metadata": {},
     "output_type": "execute_result"
    }
   ],
   "source": [
    "hun_data_eval_q_c_a_t.head()"
   ]
  },
  {
   "cell_type": "code",
   "execution_count": 15,
   "id": "5c7d8a98-5ecd-4015-9840-f409da9a12a6",
   "metadata": {
    "tags": []
   },
   "outputs": [],
   "source": [
    "hun_data_train_q_c_a_t.to_csv(\"data/train_w_noansw.csv\", index=False, sep=\";\")\n",
    "hun_data_test_q_c_a_t.to_csv(\"data/test_w_noansw.csv\", index=False, sep=\";\")\n",
    "hun_data_eval_q_c_a_t.to_csv(\"data/eval_w_noansw.csv\", index=False, sep=\";\")"
   ]
  },
  {
   "cell_type": "code",
   "execution_count": null,
   "id": "4e0a516a-f428-413d-91ac-48f2f2d043cd",
   "metadata": {},
   "outputs": [],
   "source": []
  }
 ],
 "metadata": {
  "kernelspec": {
   "display_name": "Python 3 (ipykernel)",
   "language": "python",
   "name": "python3"
  },
  "language_info": {
   "codemirror_mode": {
    "name": "ipython",
    "version": 3
   },
   "file_extension": ".py",
   "mimetype": "text/x-python",
   "name": "python",
   "nbconvert_exporter": "python",
   "pygments_lexer": "ipython3",
   "version": "3.10.12"
  }
 },
 "nbformat": 4,
 "nbformat_minor": 5
}
