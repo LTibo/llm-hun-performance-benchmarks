{
 "cells": [
  {
   "cell_type": "markdown",
   "id": "c9588061-1da5-456f-846a-3aac619a23b1",
   "metadata": {
    "tags": []
   },
   "source": [
    "## Modules"
   ]
  },
  {
   "cell_type": "code",
   "execution_count": 18,
   "id": "814aa0a8-5d19-4509-992e-b01cde74b3e8",
   "metadata": {
    "tags": []
   },
   "outputs": [],
   "source": [
    "import pandas as pd\n",
    "from tqdm import tqdm\n",
    "from sklearn.model_selection import train_test_split\n",
    "import numpy as np"
   ]
  },
  {
   "cell_type": "markdown",
   "id": "418bc997-bd0e-481e-aec6-2c5149ed5ae4",
   "metadata": {},
   "source": [
    "## Config"
   ]
  },
  {
   "cell_type": "code",
   "execution_count": 19,
   "id": "9330ac7f-6105-493d-a39f-f0ed637adb97",
   "metadata": {},
   "outputs": [],
   "source": [
    "INCLUDE_IMPOSSIBLE=False"
   ]
  },
  {
   "cell_type": "markdown",
   "id": "1f626a89-dfbf-4122-b0bd-83ad1004bf07",
   "metadata": {
    "tags": []
   },
   "source": [
    "## Process data"
   ]
  },
  {
   "cell_type": "code",
   "execution_count": 20,
   "id": "a2c0812d-35be-420b-9e7a-8f080b6af928",
   "metadata": {
    "tags": []
   },
   "outputs": [],
   "source": [
    "pd.set_option('display.max_columns', None)\n",
    "hun_data = pd.read_csv(\"data/dev_long_impossible_yes_no_arithmetic.csv\", sep=';')\n",
    "#192. sor hiba!"
   ]
  },
  {
   "cell_type": "code",
   "execution_count": 21,
   "id": "4749c08b-9766-44b6-af4f-25b5a6267d22",
   "metadata": {
    "tags": []
   },
   "outputs": [
    {
     "data": {
      "text/html": [
       "<div>\n",
       "<style scoped>\n",
       "    .dataframe tbody tr th:only-of-type {\n",
       "        vertical-align: middle;\n",
       "    }\n",
       "\n",
       "    .dataframe tbody tr th {\n",
       "        vertical-align: top;\n",
       "    }\n",
       "\n",
       "    .dataframe thead th {\n",
       "        text-align: right;\n",
       "    }\n",
       "</style>\n",
       "<table border=\"1\" class=\"dataframe\">\n",
       "  <thead>\n",
       "    <tr style=\"text-align: right;\">\n",
       "      <th></th>\n",
       "      <th>id</th>\n",
       "      <th>user</th>\n",
       "      <th>context</th>\n",
       "      <th>title</th>\n",
       "      <th>section</th>\n",
       "      <th>is_impossible</th>\n",
       "      <th>question</th>\n",
       "      <th>end</th>\n",
       "      <th>start</th>\n",
       "      <th>answer</th>\n",
       "      <th>type</th>\n",
       "      <th>modanswer</th>\n",
       "    </tr>\n",
       "  </thead>\n",
       "  <tbody>\n",
       "    <tr>\n",
       "      <th>0</th>\n",
       "      <td>1578</td>\n",
       "      <td>5</td>\n",
       "      <td>A török építészet formavilágának alapjai a nép...</td>\n",
       "      <td>Törökország</td>\n",
       "      <td>Építészet</td>\n",
       "      <td>True</td>\n",
       "      <td>Mikor épült az isztambuli Kék mecset?</td>\n",
       "      <td>0</td>\n",
       "      <td>0</td>\n",
       "      <td>NaN</td>\n",
       "      <td>NaN</td>\n",
       "      <td>NaN</td>\n",
       "    </tr>\n",
       "    <tr>\n",
       "      <th>1</th>\n",
       "      <td>3122</td>\n",
       "      <td>3</td>\n",
       "      <td>Puskás Ferenc apai ágon szegény sváb származás...</td>\n",
       "      <td>Puskás Ferenc (labdarúgó)</td>\n",
       "      <td>Gyermekkor, Kispesti AC</td>\n",
       "      <td>False</td>\n",
       "      <td>Miért nem a születése napján ünnepelte Puskás ...</td>\n",
       "      <td>256</td>\n",
       "      <td>0</td>\n",
       "      <td>Puskás Ferenc apai ágon szegény sváb származás...</td>\n",
       "      <td>[]</td>\n",
       "      <td>NaN</td>\n",
       "    </tr>\n",
       "    <tr>\n",
       "      <th>2</th>\n",
       "      <td>2768</td>\n",
       "      <td>4</td>\n",
       "      <td>Watson 2005-ben a Teen Vogue-ban, egy a kifeje...</td>\n",
       "      <td>Emma Watson</td>\n",
       "      <td>Modellkedés és divat</td>\n",
       "      <td>False</td>\n",
       "      <td>Melyik cég arca lett Emma Watson 2011 márciusá...</td>\n",
       "      <td>666</td>\n",
       "      <td>522</td>\n",
       "      <td>2011 januárjában Watson elnyerte az Elle Style...</td>\n",
       "      <td>[]</td>\n",
       "      <td>NaN</td>\n",
       "    </tr>\n",
       "    <tr>\n",
       "      <th>3</th>\n",
       "      <td>1526</td>\n",
       "      <td>5</td>\n",
       "      <td>A kritikusok folyamatosan elemzik és vizsgáljá...</td>\n",
       "      <td>Lady Gaga</td>\n",
       "      <td>Zenei stílusa és témái</td>\n",
       "      <td>False</td>\n",
       "      <td>Miért változtatja folyton Gaga a zenei stílusát?</td>\n",
       "      <td>210</td>\n",
       "      <td>0</td>\n",
       "      <td>A kritikusok folyamatosan elemzik és vizsgáljá...</td>\n",
       "      <td>[]</td>\n",
       "      <td>NaN</td>\n",
       "    </tr>\n",
       "    <tr>\n",
       "      <th>4</th>\n",
       "      <td>290</td>\n",
       "      <td>6</td>\n",
       "      <td>A hadihajók tüze után a szövetséges légierő ha...</td>\n",
       "      <td>Normandiai partraszállás</td>\n",
       "      <td>NaN</td>\n",
       "      <td>True</td>\n",
       "      <td>Melyik irányba tértek el a szövetséges bombázó...</td>\n",
       "      <td>0</td>\n",
       "      <td>0</td>\n",
       "      <td>NaN</td>\n",
       "      <td>NaN</td>\n",
       "      <td>NaN</td>\n",
       "    </tr>\n",
       "  </tbody>\n",
       "</table>\n",
       "</div>"
      ],
      "text/plain": [
       "     id  user                                            context  \\\n",
       "0  1578     5  A török építészet formavilágának alapjai a nép...   \n",
       "1  3122     3  Puskás Ferenc apai ágon szegény sváb származás...   \n",
       "2  2768     4  Watson 2005-ben a Teen Vogue-ban, egy a kifeje...   \n",
       "3  1526     5  A kritikusok folyamatosan elemzik és vizsgáljá...   \n",
       "4   290     6  A hadihajók tüze után a szövetséges légierő ha...   \n",
       "\n",
       "                       title                  section  is_impossible  \\\n",
       "0                Törökország                Építészet           True   \n",
       "1  Puskás Ferenc (labdarúgó)  Gyermekkor, Kispesti AC          False   \n",
       "2                Emma Watson     Modellkedés és divat          False   \n",
       "3                  Lady Gaga   Zenei stílusa és témái          False   \n",
       "4   Normandiai partraszállás                      NaN           True   \n",
       "\n",
       "                                            question  end  start  \\\n",
       "0              Mikor épült az isztambuli Kék mecset?    0      0   \n",
       "1  Miért nem a születése napján ünnepelte Puskás ...  256      0   \n",
       "2  Melyik cég arca lett Emma Watson 2011 márciusá...  666    522   \n",
       "3   Miért változtatja folyton Gaga a zenei stílusát?  210      0   \n",
       "4  Melyik irányba tértek el a szövetséges bombázó...    0      0   \n",
       "\n",
       "                                              answer type modanswer  \n",
       "0                                                NaN  NaN       NaN  \n",
       "1  Puskás Ferenc apai ágon szegény sváb származás...   []       NaN  \n",
       "2  2011 januárjában Watson elnyerte az Elle Style...   []       NaN  \n",
       "3  A kritikusok folyamatosan elemzik és vizsgáljá...   []       NaN  \n",
       "4                                                NaN  NaN       NaN  "
      ]
     },
     "execution_count": 21,
     "metadata": {},
     "output_type": "execute_result"
    }
   ],
   "source": [
    "hun_data = hun_data.drop(hun_data.columns[0], axis=1) # drop nameless column\n",
    "hun_data.head()"
   ]
  },
  {
   "cell_type": "code",
   "execution_count": 22,
   "id": "56b34533-d6b3-4f2c-aafa-16cb0724a2bc",
   "metadata": {
    "tags": []
   },
   "outputs": [
    {
     "data": {
      "text/plain": [
       "id                int64\n",
       "user              int64\n",
       "context          object\n",
       "title            object\n",
       "section          object\n",
       "is_impossible      bool\n",
       "question         object\n",
       "end               int64\n",
       "start             int64\n",
       "answer           object\n",
       "type             object\n",
       "modanswer        object\n",
       "dtype: object"
      ]
     },
     "execution_count": 22,
     "metadata": {},
     "output_type": "execute_result"
    }
   ],
   "source": [
    "hun_data.dtypes"
   ]
  },
  {
   "cell_type": "code",
   "execution_count": 23,
   "id": "f213051b-06be-4131-bd57-255f36dd45b0",
   "metadata": {
    "tags": []
   },
   "outputs": [
    {
     "name": "stdout",
     "output_type": "stream",
     "text": [
      "prompt_prefix='Válaszold meg az alábbi kérdést a forrás alapján!'\n"
     ]
    },
    {
     "name": "stderr",
     "output_type": "stream",
     "text": [
      "Processing data: 100%|████████████████████████████████████████████████████████████| 4553/4553 [00:01<00:00, 3003.15it/s]"
     ]
    },
    {
     "name": "stdout",
     "output_type": "stream",
     "text": [
      "impossible_question_count=1335\n"
     ]
    },
    {
     "name": "stderr",
     "output_type": "stream",
     "text": [
      "\n"
     ]
    }
   ],
   "source": [
    "impossible_answer = \"Nincs elegendő adat a kérdés megválaszolásához.\"\n",
    "\n",
    "if INCLUDE_IMPOSSIBLE:\n",
    "    prompt_prefix = (\"Válaszold meg az alábbi kérdést a forrás alapján! \"\n",
    "                     \"Ha a forrás alapján nem megválaszolható a kérdés, mondd hogy: \"\n",
    "                     f\"{impossible_answer}\")\n",
    "else:\n",
    "    prompt_prefix = \"Válaszold meg az alábbi kérdést a forrás alapján!\"\n",
    "\n",
    "print(f\"{prompt_prefix=}\")\n",
    "prompt_col = []\n",
    "impossible_question_count = 0\n",
    "\n",
    "with tqdm(total=len(hun_data.index), desc=\"Processing data\") as pbar:\n",
    "    for index, row in hun_data.loc[:].iterrows():\n",
    "\n",
    "        if row[\"answer\"] is np.nan:\n",
    "            hun_data.loc[index, \"is_impossible\"] = True\n",
    "        if hun_data.loc[index, \"is_impossible\"]:\n",
    "            hun_data.loc[index, \"answer\"] = impossible_answer\n",
    "            impossible_question_count = impossible_question_count + 1\n",
    "        if row[\"modanswer\"] is not np.nan:\n",
    "            hun_data.loc[index, \"answer\"] = row[\"modanswer\"]\n",
    "\n",
    "        hun_data.loc[index, \"answer\"] = hun_data.loc[index, \"answer\"].strip(r\" []'\")\n",
    "\n",
    "        text = (prompt_prefix\n",
    "                + \"\\n### Forrás:\\n\" + str(row['context'])\n",
    "                + \"\\n### Kérdés:\\n\" + str(row['question'])\n",
    "                + \"\\n### Válasz:\\n\" + str(hun_data.loc[index, \"answer\"]))\n",
    "\n",
    "        text = text.strip()\n",
    "        prompt_col.append(text)\n",
    "        pbar.update(1)\n",
    "        \n",
    "hun_data[\"text\"] = prompt_col\n",
    "print(f\"{impossible_question_count=}\")"
   ]
  },
  {
   "cell_type": "code",
   "execution_count": 24,
   "id": "7b07c751-1936-45bc-b725-fa3b3905a4ef",
   "metadata": {},
   "outputs": [
    {
     "name": "stdout",
     "output_type": "stream",
     "text": [
      "len(hun_data)=4553\n",
      "New len(hun_data)=3218\n"
     ]
    }
   ],
   "source": [
    "print(f\"{len(hun_data)=}\")\n",
    "if not INCLUDE_IMPOSSIBLE:\n",
    "    hun_data = hun_data[hun_data.answer != impossible_answer]\n",
    "    print(f\"New {len(hun_data)=}\")"
   ]
  },
  {
   "cell_type": "markdown",
   "id": "4bbff159-3231-428f-a767-4ac44e2f2d60",
   "metadata": {},
   "source": [
    "## Create train and test sets"
   ]
  },
  {
   "cell_type": "code",
   "execution_count": 25,
   "id": "df7b6288-11fb-42c8-a6fc-5825517ab51a",
   "metadata": {
    "tags": []
   },
   "outputs": [
    {
     "name": "stdout",
     "output_type": "stream",
     "text": [
      "hun_data.shape=(3218, 13)\n"
     ]
    },
    {
     "data": {
      "text/html": [
       "<div>\n",
       "<style scoped>\n",
       "    .dataframe tbody tr th:only-of-type {\n",
       "        vertical-align: middle;\n",
       "    }\n",
       "\n",
       "    .dataframe tbody tr th {\n",
       "        vertical-align: top;\n",
       "    }\n",
       "\n",
       "    .dataframe thead th {\n",
       "        text-align: right;\n",
       "    }\n",
       "</style>\n",
       "<table border=\"1\" class=\"dataframe\">\n",
       "  <thead>\n",
       "    <tr style=\"text-align: right;\">\n",
       "      <th></th>\n",
       "      <th>id</th>\n",
       "      <th>user</th>\n",
       "      <th>context</th>\n",
       "      <th>title</th>\n",
       "      <th>section</th>\n",
       "      <th>is_impossible</th>\n",
       "      <th>question</th>\n",
       "      <th>end</th>\n",
       "      <th>start</th>\n",
       "      <th>answer</th>\n",
       "      <th>type</th>\n",
       "      <th>modanswer</th>\n",
       "      <th>text</th>\n",
       "    </tr>\n",
       "  </thead>\n",
       "  <tbody>\n",
       "    <tr>\n",
       "      <th>4544</th>\n",
       "      <td>2077</td>\n",
       "      <td>5</td>\n",
       "      <td>Bécsben az Artaria kiadóvállalat tett sokat Ha...</td>\n",
       "      <td>Joseph Haydn</td>\n",
       "      <td>Haydn növekvő hírneve</td>\n",
       "      <td>False</td>\n",
       "      <td>Ki adta ki Bécsben Haydn műveit?</td>\n",
       "      <td>74</td>\n",
       "      <td>0</td>\n",
       "      <td>Bécsben az Artaria kiadóvállalat tett sokat Ha...</td>\n",
       "      <td>[]</td>\n",
       "      <td>NaN</td>\n",
       "      <td>Válaszold meg az alábbi kérdést a forrás alapj...</td>\n",
       "    </tr>\n",
       "    <tr>\n",
       "      <th>4546</th>\n",
       "      <td>3191</td>\n",
       "      <td>3</td>\n",
       "      <td>A viselési kényelem fokozása érdekében az egés...</td>\n",
       "      <td>Egészségügyi harisnya</td>\n",
       "      <td>Az egészségügyi harisnyák gyártása</td>\n",
       "      <td>False</td>\n",
       "      <td>Mikor tartósabb az egészségügyi harisnya anató...</td>\n",
       "      <td>898</td>\n",
       "      <td>373</td>\n",
       "      <td>A harisnya anatómiai formáját vagy a kötés sor...</td>\n",
       "      <td>[]</td>\n",
       "      <td>NaN</td>\n",
       "      <td>Válaszold meg az alábbi kérdést a forrás alapj...</td>\n",
       "    </tr>\n",
       "    <tr>\n",
       "      <th>4547</th>\n",
       "      <td>1400</td>\n",
       "      <td>5</td>\n",
       "      <td>A hagyomány szerint már Mohamed felszólította ...</td>\n",
       "      <td>Iszlám</td>\n",
       "      <td>Az iszlám elterjedése</td>\n",
       "      <td>False</td>\n",
       "      <td>Milyen nehézségekkel kellett szembenézniük a m...</td>\n",
       "      <td>554</td>\n",
       "      <td>246</td>\n",
       "      <td>Mohamed halálakor a közösség kettős kihívás el...</td>\n",
       "      <td>[]</td>\n",
       "      <td>NaN</td>\n",
       "      <td>Válaszold meg az alábbi kérdést a forrás alapj...</td>\n",
       "    </tr>\n",
       "    <tr>\n",
       "      <th>4548</th>\n",
       "      <td>1491</td>\n",
       "      <td>5</td>\n",
       "      <td>Mozart ekkor végleg szakított a salzburgi érse...</td>\n",
       "      <td>Wolfgang Amadeus Mozart</td>\n",
       "      <td>NaN</td>\n",
       "      <td>False</td>\n",
       "      <td>Hol mutatták be elsőként a Don Giovanni című o...</td>\n",
       "      <td>1200</td>\n",
       "      <td>1138</td>\n",
       "      <td>1787-ben a Don Giovannit óriási sikerrel mutat...</td>\n",
       "      <td>[]</td>\n",
       "      <td>NaN</td>\n",
       "      <td>Válaszold meg az alábbi kérdést a forrás alapj...</td>\n",
       "    </tr>\n",
       "    <tr>\n",
       "      <th>4550</th>\n",
       "      <td>694</td>\n",
       "      <td>4</td>\n",
       "      <td>Az Hagia Szophia erőteljes szimbóluma a Görögk...</td>\n",
       "      <td>Hagia Szophia</td>\n",
       "      <td>Hagia Szophia – vallás és politika</td>\n",
       "      <td>False</td>\n",
       "      <td>Mire bizonyíték az Hagia Szophia Chris Spirou ...</td>\n",
       "      <td>772</td>\n",
       "      <td>588</td>\n",
       "      <td>Spirou szerint: „Az Hagia Szophia a legnagyobb...</td>\n",
       "      <td>[]</td>\n",
       "      <td>NaN</td>\n",
       "      <td>Válaszold meg az alábbi kérdést a forrás alapj...</td>\n",
       "    </tr>\n",
       "  </tbody>\n",
       "</table>\n",
       "</div>"
      ],
      "text/plain": [
       "        id  user                                            context  \\\n",
       "4544  2077     5  Bécsben az Artaria kiadóvállalat tett sokat Ha...   \n",
       "4546  3191     3  A viselési kényelem fokozása érdekében az egés...   \n",
       "4547  1400     5  A hagyomány szerint már Mohamed felszólította ...   \n",
       "4548  1491     5  Mozart ekkor végleg szakított a salzburgi érse...   \n",
       "4550   694     4  Az Hagia Szophia erőteljes szimbóluma a Görögk...   \n",
       "\n",
       "                        title                             section  \\\n",
       "4544             Joseph Haydn               Haydn növekvő hírneve   \n",
       "4546    Egészségügyi harisnya  Az egészségügyi harisnyák gyártása   \n",
       "4547                   Iszlám               Az iszlám elterjedése   \n",
       "4548  Wolfgang Amadeus Mozart                                 NaN   \n",
       "4550            Hagia Szophia  Hagia Szophia – vallás és politika   \n",
       "\n",
       "      is_impossible                                           question   end  \\\n",
       "4544          False                   Ki adta ki Bécsben Haydn műveit?    74   \n",
       "4546          False  Mikor tartósabb az egészségügyi harisnya anató...   898   \n",
       "4547          False  Milyen nehézségekkel kellett szembenézniük a m...   554   \n",
       "4548          False  Hol mutatták be elsőként a Don Giovanni című o...  1200   \n",
       "4550          False  Mire bizonyíték az Hagia Szophia Chris Spirou ...   772   \n",
       "\n",
       "      start                                             answer type modanswer  \\\n",
       "4544      0  Bécsben az Artaria kiadóvállalat tett sokat Ha...   []       NaN   \n",
       "4546    373  A harisnya anatómiai formáját vagy a kötés sor...   []       NaN   \n",
       "4547    246  Mohamed halálakor a közösség kettős kihívás el...   []       NaN   \n",
       "4548   1138  1787-ben a Don Giovannit óriási sikerrel mutat...   []       NaN   \n",
       "4550    588  Spirou szerint: „Az Hagia Szophia a legnagyobb...   []       NaN   \n",
       "\n",
       "                                                   text  \n",
       "4544  Válaszold meg az alábbi kérdést a forrás alapj...  \n",
       "4546  Válaszold meg az alábbi kérdést a forrás alapj...  \n",
       "4547  Válaszold meg az alábbi kérdést a forrás alapj...  \n",
       "4548  Válaszold meg az alábbi kérdést a forrás alapj...  \n",
       "4550  Válaszold meg az alábbi kérdést a forrás alapj...  "
      ]
     },
     "execution_count": 25,
     "metadata": {},
     "output_type": "execute_result"
    }
   ],
   "source": [
    "print(f\"{hun_data.shape=}\")\n",
    "hun_data.tail()"
   ]
  },
  {
   "cell_type": "code",
   "execution_count": 26,
   "id": "a00f4ad5-0506-4563-8637-5a13b69d1cc3",
   "metadata": {
    "tags": []
   },
   "outputs": [],
   "source": [
    "hun_data_train, hun_data_temp = train_test_split(hun_data, test_size=0.3, random_state=42)\n",
    "hun_data_eval, hun_data_test = train_test_split(hun_data_temp, test_size=0.5, random_state=42)"
   ]
  },
  {
   "cell_type": "code",
   "execution_count": 27,
   "id": "b6ec4a75-5ca7-4daf-b9f2-3ebc0b1d22f8",
   "metadata": {
    "tags": []
   },
   "outputs": [
    {
     "name": "stdout",
     "output_type": "stream",
     "text": [
      "hun_data_train shape: (2252, 13)\n",
      "hun_data_test shape: (483, 13)\n",
      "hun_data_eval shape: (483, 13)\n"
     ]
    }
   ],
   "source": [
    "print(\"hun_data_train shape:\", hun_data_train.shape)\n",
    "print(\"hun_data_test shape:\", hun_data_test.shape)\n",
    "print(\"hun_data_eval shape:\", hun_data_eval.shape)"
   ]
  },
  {
   "cell_type": "code",
   "execution_count": 28,
   "id": "dbde3032-5201-4a98-b088-354341204faa",
   "metadata": {
    "tags": []
   },
   "outputs": [],
   "source": [
    "hun_data_train_q_c_a_t = hun_data_train[['question','context','answer', 'text']]\n",
    "hun_data_test_q_c_a_t = hun_data_test[['question','context','answer', 'text']]\n",
    "hun_data_eval_q_c_a_t = hun_data_eval[['question','context','answer', 'text']]"
   ]
  },
  {
   "cell_type": "code",
   "execution_count": 29,
   "id": "3ace952c-bf44-429c-975d-9ac3d43969f0",
   "metadata": {
    "tags": []
   },
   "outputs": [
    {
     "data": {
      "text/html": [
       "<div>\n",
       "<style scoped>\n",
       "    .dataframe tbody tr th:only-of-type {\n",
       "        vertical-align: middle;\n",
       "    }\n",
       "\n",
       "    .dataframe tbody tr th {\n",
       "        vertical-align: top;\n",
       "    }\n",
       "\n",
       "    .dataframe thead th {\n",
       "        text-align: right;\n",
       "    }\n",
       "</style>\n",
       "<table border=\"1\" class=\"dataframe\">\n",
       "  <thead>\n",
       "    <tr style=\"text-align: right;\">\n",
       "      <th></th>\n",
       "      <th>question</th>\n",
       "      <th>context</th>\n",
       "      <th>answer</th>\n",
       "      <th>text</th>\n",
       "    </tr>\n",
       "  </thead>\n",
       "  <tbody>\n",
       "    <tr>\n",
       "      <th>1894</th>\n",
       "      <td>Mi a kapcsolat Pannonhalma és Habsburg Ottó kö...</td>\n",
       "      <td>A főhajó két szélén nyíló kapukon át megközelí...</td>\n",
       "      <td>Az altemplomban helyezték el Habsburg Ottó szí...</td>\n",
       "      <td>Válaszold meg az alábbi kérdést a forrás alapj...</td>\n",
       "    </tr>\n",
       "    <tr>\n",
       "      <th>3907</th>\n",
       "      <td>Mit jelent a falkár szó?</td>\n",
       "      <td>Trénere az Angliából Magyarországra, Gödre köl...</td>\n",
       "      <td>Trénere az Angliából Magyarországra, Gödre köl...</td>\n",
       "      <td>Válaszold meg az alábbi kérdést a forrás alapj...</td>\n",
       "    </tr>\n",
       "    <tr>\n",
       "      <th>1418</th>\n",
       "      <td>Haydnnak mennyi volt az éves fizetése Karl Jos...</td>\n",
       "      <td>Haydn tanítványainak a száma látványosan megug...</td>\n",
       "      <td>1759-ben von Fürnberg beajánlotta Karl Joseph ...</td>\n",
       "      <td>Válaszold meg az alábbi kérdést a forrás alapj...</td>\n",
       "    </tr>\n",
       "    <tr>\n",
       "      <th>3750</th>\n",
       "      <td>Miből áll a Mars légköre?</td>\n",
       "      <td>Légköre igen ritka, a felszíni légnyomás a föl...</td>\n",
       "      <td>Légköre igen ritka, a felszíni légnyomás a föl...</td>\n",
       "      <td>Válaszold meg az alábbi kérdést a forrás alapj...</td>\n",
       "    </tr>\n",
       "    <tr>\n",
       "      <th>3545</th>\n",
       "      <td>Mi az a kemény indulás?</td>\n",
       "      <td>Kurzweil a nézeteit könyveiben: A spirituális ...</td>\n",
       "      <td>Jóslatai eltérnek Vinge-étől, mivel szerinte a...</td>\n",
       "      <td>Válaszold meg az alábbi kérdést a forrás alapj...</td>\n",
       "    </tr>\n",
       "  </tbody>\n",
       "</table>\n",
       "</div>"
      ],
      "text/plain": [
       "                                               question  \\\n",
       "1894  Mi a kapcsolat Pannonhalma és Habsburg Ottó kö...   \n",
       "3907                           Mit jelent a falkár szó?   \n",
       "1418  Haydnnak mennyi volt az éves fizetése Karl Jos...   \n",
       "3750                          Miből áll a Mars légköre?   \n",
       "3545                           Mi az a kemény indulás?    \n",
       "\n",
       "                                                context  \\\n",
       "1894  A főhajó két szélén nyíló kapukon át megközelí...   \n",
       "3907  Trénere az Angliából Magyarországra, Gödre köl...   \n",
       "1418  Haydn tanítványainak a száma látványosan megug...   \n",
       "3750  Légköre igen ritka, a felszíni légnyomás a föl...   \n",
       "3545  Kurzweil a nézeteit könyveiben: A spirituális ...   \n",
       "\n",
       "                                                 answer  \\\n",
       "1894  Az altemplomban helyezték el Habsburg Ottó szí...   \n",
       "3907  Trénere az Angliából Magyarországra, Gödre köl...   \n",
       "1418  1759-ben von Fürnberg beajánlotta Karl Joseph ...   \n",
       "3750  Légköre igen ritka, a felszíni légnyomás a föl...   \n",
       "3545  Jóslatai eltérnek Vinge-étől, mivel szerinte a...   \n",
       "\n",
       "                                                   text  \n",
       "1894  Válaszold meg az alábbi kérdést a forrás alapj...  \n",
       "3907  Válaszold meg az alábbi kérdést a forrás alapj...  \n",
       "1418  Válaszold meg az alábbi kérdést a forrás alapj...  \n",
       "3750  Válaszold meg az alábbi kérdést a forrás alapj...  \n",
       "3545  Válaszold meg az alábbi kérdést a forrás alapj...  "
      ]
     },
     "execution_count": 29,
     "metadata": {},
     "output_type": "execute_result"
    }
   ],
   "source": [
    "hun_data_train_q_c_a_t.head()"
   ]
  },
  {
   "cell_type": "code",
   "execution_count": 30,
   "id": "b802da21-59d1-4de2-a238-708265fb0be1",
   "metadata": {
    "tags": []
   },
   "outputs": [
    {
     "data": {
      "text/html": [
       "<div>\n",
       "<style scoped>\n",
       "    .dataframe tbody tr th:only-of-type {\n",
       "        vertical-align: middle;\n",
       "    }\n",
       "\n",
       "    .dataframe tbody tr th {\n",
       "        vertical-align: top;\n",
       "    }\n",
       "\n",
       "    .dataframe thead th {\n",
       "        text-align: right;\n",
       "    }\n",
       "</style>\n",
       "<table border=\"1\" class=\"dataframe\">\n",
       "  <thead>\n",
       "    <tr style=\"text-align: right;\">\n",
       "      <th></th>\n",
       "      <th>question</th>\n",
       "      <th>context</th>\n",
       "      <th>answer</th>\n",
       "      <th>text</th>\n",
       "    </tr>\n",
       "  </thead>\n",
       "  <tbody>\n",
       "    <tr>\n",
       "      <th>4323</th>\n",
       "      <td>Mit jelent a női körülmetélés?</td>\n",
       "      <td>A női körülmetélés (vagyis a női nemi szervek ...</td>\n",
       "      <td>A női körülmetélés (vagyis a női nemi szervek ...</td>\n",
       "      <td>Válaszold meg az alábbi kérdést a forrás alapj...</td>\n",
       "    </tr>\n",
       "    <tr>\n",
       "      <th>2487</th>\n",
       "      <td>Mikor indult meg a lóvasút Budán?</td>\n",
       "      <td>Budapest villamosvonal-hálózata a magyar fővár...</td>\n",
       "      <td>Budán csak 1868. május 18-án avatták fel az el...</td>\n",
       "      <td>Válaszold meg az alábbi kérdést a forrás alapj...</td>\n",
       "    </tr>\n",
       "    <tr>\n",
       "      <th>300</th>\n",
       "      <td>Volt testvére Orseolo Péternek?</td>\n",
       "      <td>Apja testvérének fiai, azaz István unokatestvé...</td>\n",
       "      <td>Választása végül Ilona nevű lánytestvérének fi...</td>\n",
       "      <td>Válaszold meg az alábbi kérdést a forrás alapj...</td>\n",
       "    </tr>\n",
       "    <tr>\n",
       "      <th>1116</th>\n",
       "      <td>A gleccserek édes vagy sós vizet tartalmaznak?</td>\n",
       "      <td>A globális felmelegedés következtében a gleccs...</td>\n",
       "      <td>A globális felmelegedés következtében a gleccs...</td>\n",
       "      <td>Válaszold meg az alábbi kérdést a forrás alapj...</td>\n",
       "    </tr>\n",
       "    <tr>\n",
       "      <th>4326</th>\n",
       "      <td>Min aludtak az ókori egyiptomiak?</td>\n",
       "      <td>Az átlagos egyiptomi lakóépületek a falvakban ...</td>\n",
       "      <td>Szalmazsákon aludtak, párna helyett kőből vagy...</td>\n",
       "      <td>Válaszold meg az alábbi kérdést a forrás alapj...</td>\n",
       "    </tr>\n",
       "  </tbody>\n",
       "</table>\n",
       "</div>"
      ],
      "text/plain": [
       "                                            question  \\\n",
       "4323                  Mit jelent a női körülmetélés?   \n",
       "2487               Mikor indult meg a lóvasút Budán?   \n",
       "300                  Volt testvére Orseolo Péternek?   \n",
       "1116  A gleccserek édes vagy sós vizet tartalmaznak?   \n",
       "4326               Min aludtak az ókori egyiptomiak?   \n",
       "\n",
       "                                                context  \\\n",
       "4323  A női körülmetélés (vagyis a női nemi szervek ...   \n",
       "2487  Budapest villamosvonal-hálózata a magyar fővár...   \n",
       "300   Apja testvérének fiai, azaz István unokatestvé...   \n",
       "1116  A globális felmelegedés következtében a gleccs...   \n",
       "4326  Az átlagos egyiptomi lakóépületek a falvakban ...   \n",
       "\n",
       "                                                 answer  \\\n",
       "4323  A női körülmetélés (vagyis a női nemi szervek ...   \n",
       "2487  Budán csak 1868. május 18-án avatták fel az el...   \n",
       "300   Választása végül Ilona nevű lánytestvérének fi...   \n",
       "1116  A globális felmelegedés következtében a gleccs...   \n",
       "4326  Szalmazsákon aludtak, párna helyett kőből vagy...   \n",
       "\n",
       "                                                   text  \n",
       "4323  Válaszold meg az alábbi kérdést a forrás alapj...  \n",
       "2487  Válaszold meg az alábbi kérdést a forrás alapj...  \n",
       "300   Válaszold meg az alábbi kérdést a forrás alapj...  \n",
       "1116  Válaszold meg az alábbi kérdést a forrás alapj...  \n",
       "4326  Válaszold meg az alábbi kérdést a forrás alapj...  "
      ]
     },
     "execution_count": 30,
     "metadata": {},
     "output_type": "execute_result"
    }
   ],
   "source": [
    "hun_data_test_q_c_a_t.head()"
   ]
  },
  {
   "cell_type": "code",
   "execution_count": 31,
   "id": "b732bc38-c2a7-4d9b-9e9e-f3fec8217396",
   "metadata": {
    "tags": []
   },
   "outputs": [
    {
     "data": {
      "text/html": [
       "<div>\n",
       "<style scoped>\n",
       "    .dataframe tbody tr th:only-of-type {\n",
       "        vertical-align: middle;\n",
       "    }\n",
       "\n",
       "    .dataframe tbody tr th {\n",
       "        vertical-align: top;\n",
       "    }\n",
       "\n",
       "    .dataframe thead th {\n",
       "        text-align: right;\n",
       "    }\n",
       "</style>\n",
       "<table border=\"1\" class=\"dataframe\">\n",
       "  <thead>\n",
       "    <tr style=\"text-align: right;\">\n",
       "      <th></th>\n",
       "      <th>question</th>\n",
       "      <th>context</th>\n",
       "      <th>answer</th>\n",
       "      <th>text</th>\n",
       "    </tr>\n",
       "  </thead>\n",
       "  <tbody>\n",
       "    <tr>\n",
       "      <th>466</th>\n",
       "      <td>Igaznak tartotte-a VI. Kelemen a zsidókat ért ...</td>\n",
       "      <td>1348-ban Európa-szerte elterjedt az a rémhír, ...</td>\n",
       "      <td>Összesen legalább kétszáz városban voltak ilye...</td>\n",
       "      <td>Válaszold meg az alábbi kérdést a forrás alapj...</td>\n",
       "    </tr>\n",
       "    <tr>\n",
       "      <th>436</th>\n",
       "      <td>Milyen tulajdonságai voltak Irinyi biztonsági ...</td>\n",
       "      <td>A zajtalan és robbanásmentes biztonsági gyufát...</td>\n",
       "      <td>A zajtalan és robbanásmentes biztonsági gyufát...</td>\n",
       "      <td>Válaszold meg az alábbi kérdést a forrás alapj...</td>\n",
       "    </tr>\n",
       "    <tr>\n",
       "      <th>4029</th>\n",
       "      <td>Hogy nevezték az orosz szociálforradalmárokat?</td>\n",
       "      <td>A párt és a mozgalom népszerűsége rohamosan nő...</td>\n",
       "      <td>Miután az 1917-es választást az eszerek (szoci...</td>\n",
       "      <td>Válaszold meg az alábbi kérdést a forrás alapj...</td>\n",
       "    </tr>\n",
       "    <tr>\n",
       "      <th>1787</th>\n",
       "      <td>Hol van a Naprendszer vége?</td>\n",
       "      <td>A Naprendszer a Nap gravitációja által egyben ...</td>\n",
       "      <td>A tudósok csak a XX. században jöttek rá, hogy...</td>\n",
       "      <td>Válaszold meg az alábbi kérdést a forrás alapj...</td>\n",
       "    </tr>\n",
       "    <tr>\n",
       "      <th>1742</th>\n",
       "      <td>Ki írta le először az abszintizmus tüneteit?</td>\n",
       "      <td>Dr. Valentin Magnan készített tanulmányt elsők...</td>\n",
       "      <td>Dr. Valentin Magnan készített tanulmányt elsők...</td>\n",
       "      <td>Válaszold meg az alábbi kérdést a forrás alapj...</td>\n",
       "    </tr>\n",
       "  </tbody>\n",
       "</table>\n",
       "</div>"
      ],
      "text/plain": [
       "                                               question  \\\n",
       "466   Igaznak tartotte-a VI. Kelemen a zsidókat ért ...   \n",
       "436   Milyen tulajdonságai voltak Irinyi biztonsági ...   \n",
       "4029     Hogy nevezték az orosz szociálforradalmárokat?   \n",
       "1787                        Hol van a Naprendszer vége?   \n",
       "1742       Ki írta le először az abszintizmus tüneteit?   \n",
       "\n",
       "                                                context  \\\n",
       "466   1348-ban Európa-szerte elterjedt az a rémhír, ...   \n",
       "436   A zajtalan és robbanásmentes biztonsági gyufát...   \n",
       "4029  A párt és a mozgalom népszerűsége rohamosan nő...   \n",
       "1787  A Naprendszer a Nap gravitációja által egyben ...   \n",
       "1742  Dr. Valentin Magnan készített tanulmányt elsők...   \n",
       "\n",
       "                                                 answer  \\\n",
       "466   Összesen legalább kétszáz városban voltak ilye...   \n",
       "436   A zajtalan és robbanásmentes biztonsági gyufát...   \n",
       "4029  Miután az 1917-es választást az eszerek (szoci...   \n",
       "1787  A tudósok csak a XX. században jöttek rá, hogy...   \n",
       "1742  Dr. Valentin Magnan készített tanulmányt elsők...   \n",
       "\n",
       "                                                   text  \n",
       "466   Válaszold meg az alábbi kérdést a forrás alapj...  \n",
       "436   Válaszold meg az alábbi kérdést a forrás alapj...  \n",
       "4029  Válaszold meg az alábbi kérdést a forrás alapj...  \n",
       "1787  Válaszold meg az alábbi kérdést a forrás alapj...  \n",
       "1742  Válaszold meg az alábbi kérdést a forrás alapj...  "
      ]
     },
     "execution_count": 31,
     "metadata": {},
     "output_type": "execute_result"
    }
   ],
   "source": [
    "hun_data_eval_q_c_a_t.head()"
   ]
  },
  {
   "cell_type": "code",
   "execution_count": 32,
   "id": "5c7d8a98-5ecd-4015-9840-f409da9a12a6",
   "metadata": {
    "tags": []
   },
   "outputs": [],
   "source": [
    "hun_data_train_q_c_a_t.to_csv(\"data/train.csv\", index=False, sep=\";\")\n",
    "hun_data_test_q_c_a_t.to_csv(\"data/test.csv\", index=False, sep=\";\")\n",
    "hun_data_eval_q_c_a_t.to_csv(\"data/eval.csv\", index=False, sep=\";\")"
   ]
  },
  {
   "cell_type": "code",
   "execution_count": null,
   "id": "4e0a516a-f428-413d-91ac-48f2f2d043cd",
   "metadata": {},
   "outputs": [],
   "source": []
  }
 ],
 "metadata": {
  "kernelspec": {
   "display_name": "Python 3 (ipykernel)",
   "language": "python",
   "name": "python3"
  },
  "language_info": {
   "codemirror_mode": {
    "name": "ipython",
    "version": 3
   },
   "file_extension": ".py",
   "mimetype": "text/x-python",
   "name": "python",
   "nbconvert_exporter": "python",
   "pygments_lexer": "ipython3",
   "version": "3.10.12"
  }
 },
 "nbformat": 4,
 "nbformat_minor": 5
}
