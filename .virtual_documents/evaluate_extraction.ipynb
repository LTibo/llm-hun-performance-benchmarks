


import pandas as pd
import Levenshtein





input_csv =  "results/test_llama_13b_finetuned_not_all_answerable_4bit.csv"





result_df = pd.read_csv(input_csv, sep=';', index_col=0)
result_df


def find_most_similar_substring(string1, string2) -> (str, int):
    best_match = ""
    min_distance = float('inf')

    for i in range(len(string1) - len(string2) + 1):
        substring = string1[i:i+len(string2)]
        distance = Levenshtein.distance(substring, string2)

        if distance < min_distance:
            min_distance = distance
            best_match = substring

    return best_match, min_distance


extraction = []
failed_extraction_count = 0
all_extraction_count = 0

for index, row in result_df.iloc[:].iterrows():
    given_answer = row["answer_w_ref"].replace("</s>", '')
    
    if given_answer not in row["reference"] and given_answer != "Nincs elegendő adat a kérdés megválaszolásához.":
        failed_extraction_count = failed_extraction_count + 1
        extraction.append(False)
        print("Row: "+ str(index))
        print("[Question]\n" + '- ' + row["question"] + "\n")
        print("[Reference]\n" + row["reference"] + "\n")
        print("[Given answer]\n" + given_answer + "\n")
        most_similar, distance = find_most_similar_substring(row["reference"], given_answer)
        print("[Most similar part in reference, distance]\n" + "[Distance: "+ str(distance) +"]\n" + most_similar + '\n')
        print("[Correct answer]\n" + row["correct_answer"]) 
        print("-" * 100 + "\n\n")
    elif given_answer != "Nincs elegendő adat a kérdés megválaszolásához.":
        all_extraction_count = all_extraction_count + 1
        extraction.append(True)
    else:
        extraction.append('-')


print("Failed extraction percentage: "+ str((failed_extraction_count/(all_extraction_count+failed_extraction_count)) * 100) +' %')
print()



