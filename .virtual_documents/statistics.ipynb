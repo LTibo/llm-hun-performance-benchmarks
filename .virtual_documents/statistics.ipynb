


import pandas as pd











result_df = pd.read_csv(f"results/{INPUT}", sep=';')
result_df


true_positive = 0
false_positive = 0
true_negative = 0
false_negative = 0
for index, row in result_df.iloc[:].iterrows():
    if not result_df.loc[index, "correct_answer"].startswith("Nincs elegendő adat a kérdés megválaszolásához.") and not result_df.loc[index, "answer_w_ref"].startswith("Nincs elegendő adat a kérdés megválaszolásához."):
        true_positive = true_positive + 1
    elif result_df.loc[index, "correct_answer"].startswith("Nincs elegendő adat a kérdés megválaszolásához.") and not result_df.loc[index, "answer_w_ref"].startswith("Nincs elegendő adat a kérdés megválaszolásához."):
        false_positive = false_positive + 1
    elif result_df.loc[index, "correct_answer"].startswith("Nincs elegendő adat a kérdés megválaszolásához.") and result_df.loc[index, "answer_w_ref"].startswith("Nincs elegendő adat a kérdés megválaszolásához."):
        true_negative = true_negative + 1
    elif not result_df.loc[index, "correct_answer"].startswith("Nincs elegendő adat a kérdés megválaszolásához.") and result_df.loc[index, "answer_w_ref"].startswith("Nincs elegendő adat a kérdés megválaszolásához."):
        false_negative = false_negative + 1



print(f"{true_positive=}")
print(f"{false_positive=}")
print(f"{true_negative=}")
print(f"{false_negative=}")


precision = true_positive/(true_positive+false_positive)
recall = true_positive/(true_positive+false_negative)
accuracy = (true_positive + true_negative) / (true_positive + false_positive + true_negative + false_negative)

print("Precision = " + str(precision))
print("Recall = " + str(recall))
print("Accuracy = " + str(accuracy))
